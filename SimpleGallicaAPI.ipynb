{
 "cells": [
  {
   "cell_type": "markdown",
   "metadata": {},
   "source": [
    "# Imports "
   ]
  },
  {
   "cell_type": "code",
   "execution_count": 1,
   "metadata": {},
   "outputs": [],
   "source": [
    "import requests\n",
    "import glob, shutil, os\n",
    "import numpy as np\n",
    "import pandas as pd"
   ]
  },
  {
   "cell_type": "markdown",
   "metadata": {},
   "source": [
    "# Parameters\n",
    "__You can adapt any parameters found in this block__.\n",
    "\n",
    "BnF corpus refers to Bibliothèque nationale de France's Gallica"
   ]
  },
  {
   "cell_type": "code",
   "execution_count": 2,
   "metadata": {},
   "outputs": [],
   "source": [
    "# URL prefix\n",
    "prefix = 'https://gallica.bnf.fr/iiif/ark:/12148/'"
   ]
  },
  {
   "cell_type": "markdown",
   "metadata": {},
   "source": [
    "# Load dataframe"
   ]
  },
  {
   "cell_type": "code",
   "execution_count": 3,
   "metadata": {},
   "outputs": [],
   "source": [
    "df = pd.read_json('data/df_maps_BnF.json').reset_index().drop(columns = 'index')"
   ]
  },
  {
   "cell_type": "code",
   "execution_count": 4,
   "metadata": {
    "scrolled": true
   },
   "outputs": [
    {
     "data": {
      "text/html": [
       "<div>\n",
       "<style scoped>\n",
       "    .dataframe tbody tr th:only-of-type {\n",
       "        vertical-align: middle;\n",
       "    }\n",
       "\n",
       "    .dataframe tbody tr th {\n",
       "        vertical-align: top;\n",
       "    }\n",
       "\n",
       "    .dataframe thead th {\n",
       "        text-align: right;\n",
       "    }\n",
       "</style>\n",
       "<table border=\"1\" class=\"dataframe\">\n",
       "  <thead>\n",
       "    <tr style=\"text-align: right;\">\n",
       "      <th></th>\n",
       "      <th>coverage</th>\n",
       "      <th>date</th>\n",
       "      <th>description</th>\n",
       "      <th>identifier</th>\n",
       "      <th>language</th>\n",
       "      <th>publisher</th>\n",
       "      <th>relation</th>\n",
       "      <th>subject</th>\n",
       "      <th>source</th>\n",
       "      <th>format</th>\n",
       "      <th>title</th>\n",
       "      <th>scale</th>\n",
       "      <th>ark</th>\n",
       "      <th>geolocalisation</th>\n",
       "      <th>n_items</th>\n",
       "      <th>latitude</th>\n",
       "      <th>longitude</th>\n",
       "      <th>filesnames</th>\n",
       "      <th>folds</th>\n",
       "    </tr>\n",
       "  </thead>\n",
       "  <tbody>\n",
       "    <tr>\n",
       "      <th>0</th>\n",
       "      <td>France – Île-de-France – Paris</td>\n",
       "      <td>1937.0</td>\n",
       "      <td>Échelle(s) : Echelle:1:17 000</td>\n",
       "      <td>https://gallica.bnf.fr/ark:/12148/btv1b531212347</td>\n",
       "      <td>fre</td>\n",
       "      <td>impr. Dufrénoy (Paris)</td>\n",
       "      <td>Notice du catalogue : http://catalogue.bnf.fr/...</td>\n",
       "      <td>Paris</td>\n",
       "      <td>Bibliothèque nationale de France, département ...</td>\n",
       "      <td>[1 flle : en bistre ; 92 x 60 cm, image/jpeg, ...</td>\n",
       "      <td>Paris</td>\n",
       "      <td>17000.0</td>\n",
       "      <td>btv1b531212347</td>\n",
       "      <td></td>\n",
       "      <td>1</td>\n",
       "      <td>NaN</td>\n",
       "      <td>NaN</td>\n",
       "      <td>maps/BnF/12148_btv1b531212347f1.jpg</td>\n",
       "      <td>[0]</td>\n",
       "    </tr>\n",
       "    <tr>\n",
       "      <th>1</th>\n",
       "      <td>France – Île-de-France – Paris</td>\n",
       "      <td>1944.0</td>\n",
       "      <td>Échelle(s) : 1:17 500</td>\n",
       "      <td>https://gallica.bnf.fr/ark:/12148/btv1b53121232b</td>\n",
       "      <td>fre</td>\n",
       "      <td>Girard et Barrère (Paris)</td>\n",
       "      <td>Notice du catalogue : http://catalogue.bnf.fr/...</td>\n",
       "      <td>Paris -- Plans de ville</td>\n",
       "      <td>Bibliothèque nationale de France, département ...</td>\n",
       "      <td>[1 flle : en coul. ; 82 x 60 cm, image/jpeg, N...</td>\n",
       "      <td>Paris</td>\n",
       "      <td>17500.0</td>\n",
       "      <td>btv1b53121232b</td>\n",
       "      <td></td>\n",
       "      <td>1</td>\n",
       "      <td>NaN</td>\n",
       "      <td>NaN</td>\n",
       "      <td>maps/BnF/12148_btv1b53121232bf1.jpg</td>\n",
       "      <td>[0]</td>\n",
       "    </tr>\n",
       "    <tr>\n",
       "      <th>2</th>\n",
       "      <td>France – Île-de-France – Paris</td>\n",
       "      <td>1829.0</td>\n",
       "      <td></td>\n",
       "      <td>https://gallica.bnf.fr/ark:/12148/btv1b8492750g</td>\n",
       "      <td>fre</td>\n",
       "      <td>A.P.Levalton (Paris)</td>\n",
       "      <td>[Notice de recueil : http://catalogue.bnf.fr/a...</td>\n",
       "      <td>[Plans de ville, Paris]</td>\n",
       "      <td>Bibliothèque nationale de France, département ...</td>\n",
       "      <td>[1 flle ; 640 x 470 avec tracés en coul., imag...</td>\n",
       "      <td>Plan de Paris en 1829 avec le tracé des ancien...</td>\n",
       "      <td>NaN</td>\n",
       "      <td>btv1b8492750g</td>\n",
       "      <td></td>\n",
       "      <td>1</td>\n",
       "      <td>NaN</td>\n",
       "      <td>NaN</td>\n",
       "      <td>maps/BnF/12148_btv1b8492750gf1.jpg</td>\n",
       "      <td>[0]</td>\n",
       "    </tr>\n",
       "  </tbody>\n",
       "</table>\n",
       "</div>"
      ],
      "text/plain": [
       "                         coverage    date                    description  \\\n",
       "0  France – Île-de-France – Paris  1937.0  Échelle(s) : Echelle:1:17 000   \n",
       "1  France – Île-de-France – Paris  1944.0          Échelle(s) : 1:17 500   \n",
       "2  France – Île-de-France – Paris  1829.0                                  \n",
       "\n",
       "                                         identifier language  \\\n",
       "0  https://gallica.bnf.fr/ark:/12148/btv1b531212347      fre   \n",
       "1  https://gallica.bnf.fr/ark:/12148/btv1b53121232b      fre   \n",
       "2   https://gallica.bnf.fr/ark:/12148/btv1b8492750g      fre   \n",
       "\n",
       "                   publisher  \\\n",
       "0     impr. Dufrénoy (Paris)   \n",
       "1  Girard et Barrère (Paris)   \n",
       "2       A.P.Levalton (Paris)   \n",
       "\n",
       "                                            relation                  subject  \\\n",
       "0  Notice du catalogue : http://catalogue.bnf.fr/...                    Paris   \n",
       "1  Notice du catalogue : http://catalogue.bnf.fr/...  Paris -- Plans de ville   \n",
       "2  [Notice de recueil : http://catalogue.bnf.fr/a...  [Plans de ville, Paris]   \n",
       "\n",
       "                                              source  \\\n",
       "0  Bibliothèque nationale de France, département ...   \n",
       "1  Bibliothèque nationale de France, département ...   \n",
       "2  Bibliothèque nationale de France, département ...   \n",
       "\n",
       "                                              format  \\\n",
       "0  [1 flle : en bistre ; 92 x 60 cm, image/jpeg, ...   \n",
       "1  [1 flle : en coul. ; 82 x 60 cm, image/jpeg, N...   \n",
       "2  [1 flle ; 640 x 470 avec tracés en coul., imag...   \n",
       "\n",
       "                                               title    scale             ark  \\\n",
       "0                                              Paris  17000.0  btv1b531212347   \n",
       "1                                              Paris  17500.0  btv1b53121232b   \n",
       "2  Plan de Paris en 1829 avec le tracé des ancien...      NaN   btv1b8492750g   \n",
       "\n",
       "  geolocalisation  n_items  latitude  longitude  \\\n",
       "0                        1       NaN        NaN   \n",
       "1                        1       NaN        NaN   \n",
       "2                        1       NaN        NaN   \n",
       "\n",
       "                            filesnames folds  \n",
       "0  maps/BnF/12148_btv1b531212347f1.jpg   [0]  \n",
       "1  maps/BnF/12148_btv1b53121232bf1.jpg   [0]  \n",
       "2   maps/BnF/12148_btv1b8492750gf1.jpg   [0]  "
      ]
     },
     "execution_count": 4,
     "metadata": {},
     "output_type": "execute_result"
    }
   ],
   "source": [
    "df.head(3)"
   ]
  },
  {
   "cell_type": "code",
   "execution_count": 5,
   "metadata": {},
   "outputs": [
    {
     "data": {
      "text/plain": [
       "773"
      ]
     },
     "execution_count": 5,
     "metadata": {},
     "output_type": "execute_result"
    }
   ],
   "source": [
    "len(df)"
   ]
  },
  {
   "cell_type": "markdown",
   "metadata": {},
   "source": [
    "# Download images with IIIF (Gallica API)\n",
    "Can only works for BnF images !"
   ]
  },
  {
   "cell_type": "code",
   "execution_count": 6,
   "metadata": {},
   "outputs": [],
   "source": [
    "region = 'full'\n",
    "size = 'full'\n",
    "rotation = '0'\n",
    "quality = 'native'\n",
    "imgformat = 'jpg'\n",
    "path = 'maps/'"
   ]
  },
  {
   "cell_type": "code",
   "execution_count": null,
   "metadata": {},
   "outputs": [],
   "source": [
    "present_files = glob.glob(os.path.join(path, '*.jpg'))\n",
    "\n",
    "for ind, row in df[['identifier', 'folds', 'ark']].iterrows():\n",
    "    \n",
    "    for page in row['folds']:\n",
    "        leaflet = 'f' + str(int(page)+1)\n",
    "        url = \"\".join([prefix, row['ark'], '/', leaflet, '/', \n",
    "                       region, '/', size, '/', rotation, '/', quality, '.', imgformat])\n",
    "        \n",
    "        filename = \"\".join([path + row['ark'], leaflet, '.', imgformat])\n",
    "\n",
    "        dirname = os.path.dirname(filename)\n",
    "        if not os.path.exists(dirname):\n",
    "            os.makedirs(dirname)\n",
    "            \n",
    "        if not(filename in present_files): \n",
    "            response = requests.get(url, stream=True)\n",
    "            \n",
    "            with open(filename, 'wb') as out_file:\n",
    "                shutil.copyfileobj(response.raw, out_file)\n",
    "                del response"
   ]
  },
  {
   "cell_type": "code",
   "execution_count": null,
   "metadata": {},
   "outputs": [],
   "source": []
  }
 ],
 "metadata": {
  "kernelspec": {
   "display_name": "Python 3",
   "language": "python",
   "name": "python3"
  },
  "language_info": {
   "codemirror_mode": {
    "name": "ipython",
    "version": 3
   },
   "file_extension": ".py",
   "mimetype": "text/x-python",
   "name": "python",
   "nbconvert_exporter": "python",
   "pygments_lexer": "ipython3",
   "version": "3.6.7"
  }
 },
 "nbformat": 4,
 "nbformat_minor": 2
}
